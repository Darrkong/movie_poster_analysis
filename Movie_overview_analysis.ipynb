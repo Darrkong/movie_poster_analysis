{
 "cells": [
  {
   "cell_type": "markdown",
   "metadata": {},
   "source": [
    "## Import Packages"
   ]
  },
  {
   "cell_type": "code",
   "execution_count": 30,
   "metadata": {},
   "outputs": [],
   "source": [
    "#import packages\n",
    "import tmdbsimple as tmdb\n",
    "import pandas as pd\n",
    "import numpy as np\n",
    "import seaborn as sns\n",
    "import matplotlib.pyplot as plt\n",
    "import urllib.request\n",
    "import requests\n",
    "import configparser\n",
    "import pickle\n",
    "import string\n",
    "import nltk\n",
    "\n",
    "from scipy.cluster.hierarchy import dendrogram, linkage, cut_tree\n",
    "from scipy.spatial.distance import squareform\n",
    "\n",
    "from sklearn.model_selection import train_test_split\n",
    "from sklearn.pipeline import Pipeline\n",
    "from sklearn.feature_extraction.text import CountVectorizer\n",
    "from sklearn.feature_extraction.text import TfidfTransformer\n",
    "from nltk.stem import PorterStemmer\n",
    "\n",
    "#modeling\n",
    "from sklearn.linear_model import LogisticRegression, SGDClassifier\n",
    "from sklearn.ensemble import RandomForestClassifier\n",
    "from sklearn.svm import SVC\n",
    "from sklearn.neighbors import KNeighborsClassifier\n",
    "from sklearn.ensemble import RandomForestClassifier\n",
    "from sklearn.model_selection import cross_validate, GridSearchCV\n",
    "from sklearn.naive_bayes import MultinomialNB\n",
    "\n",
    "from sklearn.metrics import accuracy_score, recall_score, precision_score, confusion_matrix, roc_curve, auc\n",
    "from sklearn.calibration import calibration_curve\n",
    "\n",
    "\n",
    "import time\n",
    "import collections\n",
    "from PIL import Image\n",
    "import sys"
   ]
  },
  {
   "cell_type": "markdown",
   "metadata": {},
   "source": [
    "## Get Data"
   ]
  },
  {
   "cell_type": "code",
   "execution_count": 2,
   "metadata": {},
   "outputs": [],
   "source": [
    "#import key for tmdb API\n",
    "config = configparser.ConfigParser()\n",
    "config.read('API_KEYS.ini')\n",
    "config.sections()\n",
    "\n",
    "API_KEY = config['tmdb.com']['API_KEY']\n",
    "\n",
    "tmdb.API_KEY = API_KEY"
   ]
  },
  {
   "cell_type": "code",
   "execution_count": 3,
   "metadata": {},
   "outputs": [],
   "source": [
    "#import data\n",
    "genome_tags_ids = pd.read_csv('data/genome-tags.csv')\n",
    "movies = pd.read_csv('data/movies.csv')\n",
    "genome_tags = pd.read_csv('data/genome-scores.csv')\n",
    "user_tags = pd.read_csv('data/tags.csv')\n",
    "links = pd.read_csv('data/links.csv')"
   ]
  },
  {
   "cell_type": "code",
   "execution_count": 4,
   "metadata": {},
   "outputs": [
    {
     "data": {
      "text/html": [
       "<div>\n",
       "<style scoped>\n",
       "    .dataframe tbody tr th:only-of-type {\n",
       "        vertical-align: middle;\n",
       "    }\n",
       "\n",
       "    .dataframe tbody tr th {\n",
       "        vertical-align: top;\n",
       "    }\n",
       "\n",
       "    .dataframe thead th {\n",
       "        text-align: right;\n",
       "    }\n",
       "</style>\n",
       "<table border=\"1\" class=\"dataframe\">\n",
       "  <thead>\n",
       "    <tr style=\"text-align: right;\">\n",
       "      <th></th>\n",
       "      <th>movieId</th>\n",
       "      <th>title</th>\n",
       "      <th>genres</th>\n",
       "      <th>imdbId</th>\n",
       "      <th>tmdbId</th>\n",
       "    </tr>\n",
       "  </thead>\n",
       "  <tbody>\n",
       "    <tr>\n",
       "      <th>0</th>\n",
       "      <td>1</td>\n",
       "      <td>Toy Story (1995)</td>\n",
       "      <td>Adventure|Animation|Children|Comedy|Fantasy</td>\n",
       "      <td>114709</td>\n",
       "      <td>862</td>\n",
       "    </tr>\n",
       "    <tr>\n",
       "      <th>1</th>\n",
       "      <td>2</td>\n",
       "      <td>Jumanji (1995)</td>\n",
       "      <td>Adventure|Children|Fantasy</td>\n",
       "      <td>113497</td>\n",
       "      <td>8844</td>\n",
       "    </tr>\n",
       "    <tr>\n",
       "      <th>2</th>\n",
       "      <td>3</td>\n",
       "      <td>Grumpier Old Men (1995)</td>\n",
       "      <td>Comedy|Romance</td>\n",
       "      <td>113228</td>\n",
       "      <td>15602</td>\n",
       "    </tr>\n",
       "    <tr>\n",
       "      <th>3</th>\n",
       "      <td>4</td>\n",
       "      <td>Waiting to Exhale (1995)</td>\n",
       "      <td>Comedy|Drama|Romance</td>\n",
       "      <td>114885</td>\n",
       "      <td>31357</td>\n",
       "    </tr>\n",
       "    <tr>\n",
       "      <th>4</th>\n",
       "      <td>5</td>\n",
       "      <td>Father of the Bride Part II (1995)</td>\n",
       "      <td>Comedy</td>\n",
       "      <td>113041</td>\n",
       "      <td>11862</td>\n",
       "    </tr>\n",
       "  </tbody>\n",
       "</table>\n",
       "</div>"
      ],
      "text/plain": [
       "   movieId                               title  \\\n",
       "0        1                    Toy Story (1995)   \n",
       "1        2                      Jumanji (1995)   \n",
       "2        3             Grumpier Old Men (1995)   \n",
       "3        4            Waiting to Exhale (1995)   \n",
       "4        5  Father of the Bride Part II (1995)   \n",
       "\n",
       "                                        genres  imdbId  tmdbId  \n",
       "0  Adventure|Animation|Children|Comedy|Fantasy  114709     862  \n",
       "1                   Adventure|Children|Fantasy  113497    8844  \n",
       "2                               Comedy|Romance  113228   15602  \n",
       "3                         Comedy|Drama|Romance  114885   31357  \n",
       "4                                       Comedy  113041   11862  "
      ]
     },
     "execution_count": 4,
     "metadata": {},
     "output_type": "execute_result"
    }
   ],
   "source": [
    "#create movie lookup table\n",
    "movies = movies.merge(links, left_on = 'movieId', right_on = 'movieId', how = 'left')\n",
    "movies.dropna(subset=['tmdbId'], inplace=True)\n",
    "movies['tmdbId'] = movies['tmdbId'].astype(int)\n",
    "movies.loc[movies['movieId'] == 4207, 'tmdbId'] = 427910\n",
    "movies.loc[movies['movieId'] == 4568, 'tmdbId'] = 207340\n",
    "movies.head()"
   ]
  },
  {
   "cell_type": "code",
   "execution_count": 5,
   "metadata": {},
   "outputs": [
    {
     "data": {
      "text/html": [
       "<div>\n",
       "<style scoped>\n",
       "    .dataframe tbody tr th:only-of-type {\n",
       "        vertical-align: middle;\n",
       "    }\n",
       "\n",
       "    .dataframe tbody tr th {\n",
       "        vertical-align: top;\n",
       "    }\n",
       "\n",
       "    .dataframe thead th {\n",
       "        text-align: right;\n",
       "    }\n",
       "</style>\n",
       "<table border=\"1\" class=\"dataframe\">\n",
       "  <thead>\n",
       "    <tr style=\"text-align: right;\">\n",
       "      <th></th>\n",
       "      <th>movieId</th>\n",
       "      <th>tagId</th>\n",
       "      <th>relevance</th>\n",
       "      <th>tag</th>\n",
       "      <th>title</th>\n",
       "      <th>tmdbId</th>\n",
       "    </tr>\n",
       "  </thead>\n",
       "  <tbody>\n",
       "    <tr>\n",
       "      <th>0</th>\n",
       "      <td>1</td>\n",
       "      <td>1</td>\n",
       "      <td>0.02475</td>\n",
       "      <td>007</td>\n",
       "      <td>Toy Story (1995)</td>\n",
       "      <td>862</td>\n",
       "    </tr>\n",
       "    <tr>\n",
       "      <th>1</th>\n",
       "      <td>1</td>\n",
       "      <td>2</td>\n",
       "      <td>0.02475</td>\n",
       "      <td>007 (series)</td>\n",
       "      <td>Toy Story (1995)</td>\n",
       "      <td>862</td>\n",
       "    </tr>\n",
       "    <tr>\n",
       "      <th>2</th>\n",
       "      <td>1</td>\n",
       "      <td>3</td>\n",
       "      <td>0.04900</td>\n",
       "      <td>18th century</td>\n",
       "      <td>Toy Story (1995)</td>\n",
       "      <td>862</td>\n",
       "    </tr>\n",
       "    <tr>\n",
       "      <th>3</th>\n",
       "      <td>1</td>\n",
       "      <td>4</td>\n",
       "      <td>0.07750</td>\n",
       "      <td>1920s</td>\n",
       "      <td>Toy Story (1995)</td>\n",
       "      <td>862</td>\n",
       "    </tr>\n",
       "    <tr>\n",
       "      <th>4</th>\n",
       "      <td>1</td>\n",
       "      <td>5</td>\n",
       "      <td>0.12450</td>\n",
       "      <td>1930s</td>\n",
       "      <td>Toy Story (1995)</td>\n",
       "      <td>862</td>\n",
       "    </tr>\n",
       "  </tbody>\n",
       "</table>\n",
       "</div>"
      ],
      "text/plain": [
       "   movieId  tagId  relevance           tag             title  tmdbId\n",
       "0        1      1    0.02475           007  Toy Story (1995)     862\n",
       "1        1      2    0.02475  007 (series)  Toy Story (1995)     862\n",
       "2        1      3    0.04900  18th century  Toy Story (1995)     862\n",
       "3        1      4    0.07750         1920s  Toy Story (1995)     862\n",
       "4        1      5    0.12450         1930s  Toy Story (1995)     862"
      ]
     },
     "execution_count": 5,
     "metadata": {},
     "output_type": "execute_result"
    }
   ],
   "source": [
    "#create genome tag data; 1 record per movie per tag \n",
    "genome_tags = genome_tags.merge(genome_tags_ids, left_on = 'tagId', right_on = 'tagId', how = 'left')\n",
    "genome_tags = genome_tags.merge(movies[['title', 'movieId', 'tmdbId']], left_on = 'movieId', right_on = 'movieId', how = 'left')\n",
    "genome_tags = genome_tags[genome_tags['tmdbId'].notnull()]\n",
    "genome_tags['tmdbId'] = genome_tags['tmdbId'].astype(int)\n",
    "genome_tags.head()"
   ]
  },
  {
   "cell_type": "code",
   "execution_count": 6,
   "metadata": {},
   "outputs": [
    {
     "data": {
      "text/plain": [
       "1128"
      ]
     },
     "execution_count": 6,
     "metadata": {},
     "output_type": "execute_result"
    }
   ],
   "source": [
    "genome_tags['tag'].nunique()"
   ]
  },
  {
   "cell_type": "markdown",
   "metadata": {},
   "source": [
    "## Clean Movie Tags\n",
    "\n",
    "Each movie is given a score for each of 1100 tags.  That is too many tags to predict given a dataset of 10000 movies.  Let's concentrate on those tags that are highest scoring.  If we take the top 5 tags for any given movie, that may allow us to narrow our tags set. We can also eliminate tags that are not content related (ie: based on a book, Oscar winner, etc)"
   ]
  },
  {
   "cell_type": "code",
   "execution_count": 7,
   "metadata": {},
   "outputs": [
    {
     "data": {
      "text/plain": [
       "Text(0.5,1,'Movies with tag in top 5 list')"
      ]
     },
     "execution_count": 7,
     "metadata": {},
     "output_type": "execute_result"
    },
    {
     "data": {
      "image/png": "[encoded data removed]",
      "text/plain": [
       "<Figure size 1296x576 with 1 Axes>"
      ]
     },
     "metadata": {},
     "output_type": "display_data"
    }
   ],
   "source": [
    "#get top 5 tags per movie\n",
    "top5 = genome_tags.sort_values(by=['movieId', 'relevance', 'tagId'], ascending = [True, False, True]).groupby('movieId').head(5)\n",
    "top5.head()\n",
    "\n",
    "#Get list of top 5 tags\n",
    "tagslist = top5.tag.value_counts()\n",
    "tagslist = tagslist[tagslist > 100]\n",
    "tagslist = list(tagslist.index.values)  \n",
    "\n",
    "top5 = top5.loc[top5['tag'].isin(tagslist)]\n",
    "\n",
    "fig, ax = plt.subplots(figsize=(18,8))\n",
    "ax = sns.countplot(x = \"tag\", data = top5)\n",
    "ax.set_xticklabels(ax.get_xticklabels(), rotation=90)\n",
    "ax.set_title(\"Movies with tag in top 5 list\")"
   ]
  },
  {
   "cell_type": "code",
   "execution_count": 8,
   "metadata": {},
   "outputs": [],
   "source": [
    "#keep tags that are in top5 for any movie\n",
    "genome_tags = genome_tags.loc[genome_tags['tag'].isin(tagslist)]\n",
    "genome_tags = genome_tags.pivot(index='movieId', columns='tag', values='relevance')\n",
    "genome_tags.columns = map(str.lower, genome_tags.columns)\n",
    "genome_tags.columns = genome_tags.columns.str.replace(' ', '_')\n",
    "\n",
    "#drop tags that should not be predicted based on picture\n",
    "genome_tags.columns.values\n",
    "\n",
    "drop_cols = ['adapted_from:book',\n",
    "             'based_on_a_book', \n",
    "             'based_on_a_play',\n",
    "             'based_on_book', \n",
    "             'based_on_true_story', \n",
    "             'cinematography', \n",
    "             'classic',\n",
    "             'computer_animation',\n",
    "             'criterion', \n",
    "             'cult_classic',\n",
    "             'franchise', \n",
    "             'good_sequel', \n",
    "             'good_soundtrack',\n",
    "             'great_acting',\n",
    "             'imdb_top_250', \n",
    "             'male_nudity', \n",
    "             'original',\n",
    "             'oscar_(best_actress)', \n",
    "             'oscar_(best_directing)', \n",
    "             'parody',\n",
    "             'predictable', \n",
    "             'remake',\n",
    "             'sequel', \n",
    "             'sequels',\n",
    "             'series',\n",
    "             'special_effects',\n",
    "             'storytelling']\n",
    "genome_tags.drop(columns = drop_cols, inplace = True)"
   ]
  },
  {
   "cell_type": "code",
   "execution_count": 9,
   "metadata": {},
   "outputs": [
    {
     "data": {
      "text/html": [
       "<div>\n",
       "<style scoped>\n",
       "    .dataframe tbody tr th:only-of-type {\n",
       "        vertical-align: middle;\n",
       "    }\n",
       "\n",
       "    .dataframe tbody tr th {\n",
       "        vertical-align: top;\n",
       "    }\n",
       "\n",
       "    .dataframe thead th {\n",
       "        text-align: right;\n",
       "    }\n",
       "</style>\n",
       "<table border=\"1\" class=\"dataframe\">\n",
       "  <thead>\n",
       "    <tr style=\"text-align: right;\">\n",
       "      <th></th>\n",
       "      <th>action</th>\n",
       "      <th>adventure</th>\n",
       "      <th>alien</th>\n",
       "      <th>aliens</th>\n",
       "      <th>animals</th>\n",
       "      <th>animation</th>\n",
       "      <th>biographical</th>\n",
       "      <th>biopic</th>\n",
       "      <th>bleak</th>\n",
       "      <th>brutality</th>\n",
       "      <th>...</th>\n",
       "      <th>violence</th>\n",
       "      <th>violent</th>\n",
       "      <th>visually_appealing</th>\n",
       "      <th>war</th>\n",
       "      <th>wartime</th>\n",
       "      <th>weird</th>\n",
       "      <th>western</th>\n",
       "      <th>women</th>\n",
       "      <th>world_war_ii</th>\n",
       "      <th>wwii</th>\n",
       "    </tr>\n",
       "    <tr>\n",
       "      <th>movieId</th>\n",
       "      <th></th>\n",
       "      <th></th>\n",
       "      <th></th>\n",
       "      <th></th>\n",
       "      <th></th>\n",
       "      <th></th>\n",
       "      <th></th>\n",
       "      <th></th>\n",
       "      <th></th>\n",
       "      <th></th>\n",
       "      <th></th>\n",
       "      <th></th>\n",
       "      <th></th>\n",
       "      <th></th>\n",
       "      <th></th>\n",
       "      <th></th>\n",
       "      <th></th>\n",
       "      <th></th>\n",
       "      <th></th>\n",
       "      <th></th>\n",
       "      <th></th>\n",
       "    </tr>\n",
       "  </thead>\n",
       "  <tbody>\n",
       "    <tr>\n",
       "      <th>1</th>\n",
       "      <td>0.65025</td>\n",
       "      <td>0.89800</td>\n",
       "      <td>0.13850</td>\n",
       "      <td>0.25350</td>\n",
       "      <td>0.69200</td>\n",
       "      <td>0.98650</td>\n",
       "      <td>0.11625</td>\n",
       "      <td>0.09975</td>\n",
       "      <td>0.11750</td>\n",
       "      <td>0.24150</td>\n",
       "      <td>...</td>\n",
       "      <td>0.28350</td>\n",
       "      <td>0.19600</td>\n",
       "      <td>0.40675</td>\n",
       "      <td>0.06375</td>\n",
       "      <td>0.09200</td>\n",
       "      <td>0.32300</td>\n",
       "      <td>0.02275</td>\n",
       "      <td>0.10850</td>\n",
       "      <td>0.04300</td>\n",
       "      <td>0.03600</td>\n",
       "    </tr>\n",
       "    <tr>\n",
       "      <th>2</th>\n",
       "      <td>0.62825</td>\n",
       "      <td>0.97975</td>\n",
       "      <td>0.03725</td>\n",
       "      <td>0.05575</td>\n",
       "      <td>0.91150</td>\n",
       "      <td>0.13725</td>\n",
       "      <td>0.08475</td>\n",
       "      <td>0.05375</td>\n",
       "      <td>0.04975</td>\n",
       "      <td>0.23100</td>\n",
       "      <td>...</td>\n",
       "      <td>0.17100</td>\n",
       "      <td>0.13450</td>\n",
       "      <td>0.18850</td>\n",
       "      <td>0.04175</td>\n",
       "      <td>0.04625</td>\n",
       "      <td>0.30275</td>\n",
       "      <td>0.01275</td>\n",
       "      <td>0.12750</td>\n",
       "      <td>0.01650</td>\n",
       "      <td>0.01325</td>\n",
       "    </tr>\n",
       "    <tr>\n",
       "      <th>3</th>\n",
       "      <td>0.15575</td>\n",
       "      <td>0.42900</td>\n",
       "      <td>0.03100</td>\n",
       "      <td>0.04250</td>\n",
       "      <td>0.09125</td>\n",
       "      <td>0.02650</td>\n",
       "      <td>0.04350</td>\n",
       "      <td>0.03450</td>\n",
       "      <td>0.06850</td>\n",
       "      <td>0.29825</td>\n",
       "      <td>...</td>\n",
       "      <td>0.11575</td>\n",
       "      <td>0.10175</td>\n",
       "      <td>0.21950</td>\n",
       "      <td>0.03675</td>\n",
       "      <td>0.06600</td>\n",
       "      <td>0.17125</td>\n",
       "      <td>0.03500</td>\n",
       "      <td>0.37375</td>\n",
       "      <td>0.02650</td>\n",
       "      <td>0.01725</td>\n",
       "    </tr>\n",
       "    <tr>\n",
       "      <th>4</th>\n",
       "      <td>0.13825</td>\n",
       "      <td>0.12975</td>\n",
       "      <td>0.02375</td>\n",
       "      <td>0.02975</td>\n",
       "      <td>0.13075</td>\n",
       "      <td>0.04450</td>\n",
       "      <td>0.03150</td>\n",
       "      <td>0.03175</td>\n",
       "      <td>0.05075</td>\n",
       "      <td>0.31475</td>\n",
       "      <td>...</td>\n",
       "      <td>0.17225</td>\n",
       "      <td>0.09125</td>\n",
       "      <td>0.18425</td>\n",
       "      <td>0.03250</td>\n",
       "      <td>0.05425</td>\n",
       "      <td>0.16725</td>\n",
       "      <td>0.03000</td>\n",
       "      <td>0.97575</td>\n",
       "      <td>0.02150</td>\n",
       "      <td>0.01325</td>\n",
       "    </tr>\n",
       "    <tr>\n",
       "      <th>5</th>\n",
       "      <td>0.15475</td>\n",
       "      <td>0.15250</td>\n",
       "      <td>0.03225</td>\n",
       "      <td>0.03500</td>\n",
       "      <td>0.12850</td>\n",
       "      <td>0.02675</td>\n",
       "      <td>0.05625</td>\n",
       "      <td>0.03800</td>\n",
       "      <td>0.06125</td>\n",
       "      <td>0.26600</td>\n",
       "      <td>...</td>\n",
       "      <td>0.10500</td>\n",
       "      <td>0.08375</td>\n",
       "      <td>0.19375</td>\n",
       "      <td>0.03400</td>\n",
       "      <td>0.05700</td>\n",
       "      <td>0.25750</td>\n",
       "      <td>0.02400</td>\n",
       "      <td>0.46200</td>\n",
       "      <td>0.01875</td>\n",
       "      <td>0.01325</td>\n",
       "    </tr>\n",
       "  </tbody>\n",
       "</table>\n",
       "<p>5 rows × 121 columns</p>\n",
       "</div>"
      ],
      "text/plain": [
       "          action  adventure    alien   aliens  animals  animation  \\\n",
       "movieId                                                             \n",
       "1        0.65025    0.89800  0.13850  0.25350  0.69200    0.98650   \n",
       "2        0.62825    0.97975  0.03725  0.05575  0.91150    0.13725   \n",
       "3        0.15575    0.42900  0.03100  0.04250  0.09125    0.02650   \n",
       "4        0.13825    0.12975  0.02375  0.02975  0.13075    0.04450   \n",
       "5        0.15475    0.15250  0.03225  0.03500  0.12850    0.02675   \n",
       "\n",
       "         biographical   biopic    bleak  brutality   ...     violence  \\\n",
       "movieId                                              ...                \n",
       "1             0.11625  0.09975  0.11750    0.24150   ...      0.28350   \n",
       "2             0.08475  0.05375  0.04975    0.23100   ...      0.17100   \n",
       "3             0.04350  0.03450  0.06850    0.29825   ...      0.11575   \n",
       "4             0.03150  0.03175  0.05075    0.31475   ...      0.17225   \n",
       "5             0.05625  0.03800  0.06125    0.26600   ...      0.10500   \n",
       "\n",
       "         violent  visually_appealing      war  wartime    weird  western  \\\n",
       "movieId                                                                    \n",
       "1        0.19600             0.40675  0.06375  0.09200  0.32300  0.02275   \n",
       "2        0.13450             0.18850  0.04175  0.04625  0.30275  0.01275   \n",
       "3        0.10175             0.21950  0.03675  0.06600  0.17125  0.03500   \n",
       "4        0.09125             0.18425  0.03250  0.05425  0.16725  0.03000   \n",
       "5        0.08375             0.19375  0.03400  0.05700  0.25750  0.02400   \n",
       "\n",
       "           women  world_war_ii     wwii  \n",
       "movieId                                  \n",
       "1        0.10850       0.04300  0.03600  \n",
       "2        0.12750       0.01650  0.01325  \n",
       "3        0.37375       0.02650  0.01725  \n",
       "4        0.97575       0.02150  0.01325  \n",
       "5        0.46200       0.01875  0.01325  \n",
       "\n",
       "[5 rows x 121 columns]"
      ]
     },
     "execution_count": 9,
     "metadata": {},
     "output_type": "execute_result"
    }
   ],
   "source": [
    "#examine genome tag data\n",
    "genome_tags.head()"
   ]
  },
  {
   "cell_type": "code",
   "execution_count": 10,
   "metadata": {},
   "outputs": [
    {
     "data": {
      "text/plain": [
       "121"
      ]
     },
     "execution_count": 10,
     "metadata": {},
     "output_type": "execute_result"
    }
   ],
   "source": [
    "genome_tags.shape[1]"
   ]
  },
  {
   "cell_type": "markdown",
   "metadata": {},
   "source": [
    "## Tag Clustering\n",
    "\n",
    "121 Tags are still too many, so let's cluster similar tags together.  Use correlation matrix to cluster similar tags together.  Identify and name clusters to result in 45 tags. Use the max value of tags to get score per tag cluster and turn tag scores into a binary yes/no variable based on arbitrary cut-off (0.75) "
   ]
  },
  {
   "cell_type": "code",
   "execution_count": 11,
   "metadata": {},
   "outputs": [
    {
     "data": {
      "image/png": "[encoded data removed]",
      "text/plain": [
       "<Figure size 1296x720 with 1 Axes>"
      ]
     },
     "metadata": {},
     "output_type": "display_data"
    }
   ],
   "source": [
    "#get correlation matrix for each tag\n",
    "corr = genome_tags.corr()\n",
    "\n",
    "#change to distance matrix using \n",
    "corr = 1- corr\n",
    "corr.head()\n",
    "\n",
    "cond_dist = squareform(corr)\n",
    "\n",
    "Z = linkage(cond_dist)\n",
    "fig, ax = plt.subplots(figsize=(18, 10))\n",
    "g = dendrogram(Z, ax = ax, labels=corr.index)\n",
    "ax.tick_params(axis = 'x', which = 'major', labelsize = 10)\n",
    "plt.show()"
   ]
  },
  {
   "cell_type": "code",
   "execution_count": 12,
   "metadata": {},
   "outputs": [],
   "source": [
    "#set cut point at 0.4\n",
    "cutree = cut_tree(Z, height = 0.40)\n",
    "cutree = np.reshape(cutree, -1)\n",
    "\n",
    "#name tag clusters\n",
    "var_clusters = pd.DataFrame({'tag' : corr.index,\n",
    "                            'cluster': cutree})\n",
    "var_clusters.sort_values(by = 'cluster')\n",
    "cluster_tags = {\n",
    "    0: 'action',\n",
    "    1: 'adventure',\n",
    "    2: 'scifi',\n",
    "    3: 'animation',\n",
    "    4: 'biopic',\n",
    "    5: 'melancholic_wierd',\n",
    "    6: 'violent',\n",
    "    7: 'romance',\n",
    "    8: 'childhood', \n",
    "    9: 'family',\n",
    "    10: 'comedy', \n",
    "    11: 'friendships', \n",
    "    12: 'crime',\n",
    "    13: 'horror', \n",
    "    14: 'death', \n",
    "    15: 'documentary', \n",
    "    16: 'drama', \n",
    "    17: 'drugs', \n",
    "    18: 'drinking',\n",
    "    19: 'spy',\n",
    "    20: 'fantasy', \n",
    "    21: 'feel_good',\n",
    "    22: 'fun', \n",
    "    23: 'gangsters', \n",
    "    24: 'gay',\n",
    "    25: 'gunfight',\n",
    "    26: 'teen', \n",
    "    27: 'war',\n",
    "    28: 'indians', \n",
    "    29: 'japan', \n",
    "    30: 'life_death',\n",
    "    31: 'mentor', \n",
    "    32: 'music', \n",
    "    33: 'political', \n",
    "    34: 'sexual', \n",
    "    35: 'satire', \n",
    "    36: 'sexy', \n",
    "    37: 'smalltown', \n",
    "    38: 'spoof', \n",
    "    39: 'sports', \n",
    "    40: 'superhero', \n",
    "    41: 'true story', \n",
    "    42: 'visual',\n",
    "    43: 'western',\n",
    "    44: 'women'\n",
    "}\n",
    "\n",
    "topics = list(cluster_tags.values())"
   ]
  },
  {
   "cell_type": "code",
   "execution_count": 13,
   "metadata": {},
   "outputs": [],
   "source": [
    "#reduce tags to max value per cluster\n",
    "genome_tags = pd.melt(genome_tags.reset_index(), id_vars = 'movieId', var_name='tag', value_name='relevance')\n",
    "genome_tags = genome_tags.merge(var_clusters, left_on = 'tag', right_on = 'tag', how = \"left\")\n",
    "genome_tags = pd.DataFrame(genome_tags.groupby(['movieId', 'cluster'])['relevance'].max()).reset_index()\n",
    "genome_tags['cluster_label'] = genome_tags.cluster.map(cluster_tags)\n",
    "genome_tags = genome_tags.pivot(index='movieId', columns='cluster_label', values='relevance')"
   ]
  },
  {
   "cell_type": "code",
   "execution_count": 14,
   "metadata": {},
   "outputs": [],
   "source": [
    "#create master tags dataset with title and linking IDs\n",
    "genome_tags = genome_tags.merge(movies[['title', 'tmdbId', 'movieId']] , left_index = True, right_on = 'movieId', how = 'left')"
   ]
  },
  {
   "cell_type": "code",
   "execution_count": 15,
   "metadata": {},
   "outputs": [
    {
     "data": {
      "text/html": [
       "<div>\n",
       "<style scoped>\n",
       "    .dataframe tbody tr th:only-of-type {\n",
       "        vertical-align: middle;\n",
       "    }\n",
       "\n",
       "    .dataframe tbody tr th {\n",
       "        vertical-align: top;\n",
       "    }\n",
       "\n",
       "    .dataframe thead th {\n",
       "        text-align: right;\n",
       "    }\n",
       "</style>\n",
       "<table border=\"1\" class=\"dataframe\">\n",
       "  <thead>\n",
       "    <tr style=\"text-align: right;\">\n",
       "      <th></th>\n",
       "      <th>action</th>\n",
       "      <th>adventure</th>\n",
       "      <th>animation</th>\n",
       "      <th>biopic</th>\n",
       "      <th>childhood</th>\n",
       "      <th>comedy</th>\n",
       "      <th>crime</th>\n",
       "      <th>death</th>\n",
       "      <th>documentary</th>\n",
       "      <th>drama</th>\n",
       "      <th>...</th>\n",
       "      <th>teen</th>\n",
       "      <th>true story</th>\n",
       "      <th>violent</th>\n",
       "      <th>visual</th>\n",
       "      <th>war</th>\n",
       "      <th>western</th>\n",
       "      <th>women</th>\n",
       "      <th>movieId</th>\n",
       "      <th>title</th>\n",
       "      <th>tmdbId</th>\n",
       "    </tr>\n",
       "  </thead>\n",
       "  <tbody>\n",
       "    <tr>\n",
       "      <th>0</th>\n",
       "      <td>0</td>\n",
       "      <td>1</td>\n",
       "      <td>1</td>\n",
       "      <td>0</td>\n",
       "      <td>1</td>\n",
       "      <td>0</td>\n",
       "      <td>0</td>\n",
       "      <td>0</td>\n",
       "      <td>0</td>\n",
       "      <td>0</td>\n",
       "      <td>...</td>\n",
       "      <td>0</td>\n",
       "      <td>0</td>\n",
       "      <td>0</td>\n",
       "      <td>0</td>\n",
       "      <td>0</td>\n",
       "      <td>0</td>\n",
       "      <td>0</td>\n",
       "      <td>1</td>\n",
       "      <td>Toy Story (1995)</td>\n",
       "      <td>862</td>\n",
       "    </tr>\n",
       "    <tr>\n",
       "      <th>1</th>\n",
       "      <td>0</td>\n",
       "      <td>1</td>\n",
       "      <td>1</td>\n",
       "      <td>0</td>\n",
       "      <td>1</td>\n",
       "      <td>0</td>\n",
       "      <td>0</td>\n",
       "      <td>0</td>\n",
       "      <td>0</td>\n",
       "      <td>0</td>\n",
       "      <td>...</td>\n",
       "      <td>0</td>\n",
       "      <td>0</td>\n",
       "      <td>0</td>\n",
       "      <td>0</td>\n",
       "      <td>0</td>\n",
       "      <td>0</td>\n",
       "      <td>0</td>\n",
       "      <td>2</td>\n",
       "      <td>Jumanji (1995)</td>\n",
       "      <td>8844</td>\n",
       "    </tr>\n",
       "    <tr>\n",
       "      <th>2</th>\n",
       "      <td>0</td>\n",
       "      <td>0</td>\n",
       "      <td>0</td>\n",
       "      <td>0</td>\n",
       "      <td>0</td>\n",
       "      <td>1</td>\n",
       "      <td>0</td>\n",
       "      <td>0</td>\n",
       "      <td>0</td>\n",
       "      <td>0</td>\n",
       "      <td>...</td>\n",
       "      <td>0</td>\n",
       "      <td>0</td>\n",
       "      <td>0</td>\n",
       "      <td>0</td>\n",
       "      <td>0</td>\n",
       "      <td>0</td>\n",
       "      <td>0</td>\n",
       "      <td>3</td>\n",
       "      <td>Grumpier Old Men (1995)</td>\n",
       "      <td>15602</td>\n",
       "    </tr>\n",
       "    <tr>\n",
       "      <th>3</th>\n",
       "      <td>0</td>\n",
       "      <td>0</td>\n",
       "      <td>0</td>\n",
       "      <td>0</td>\n",
       "      <td>0</td>\n",
       "      <td>0</td>\n",
       "      <td>0</td>\n",
       "      <td>0</td>\n",
       "      <td>0</td>\n",
       "      <td>0</td>\n",
       "      <td>...</td>\n",
       "      <td>0</td>\n",
       "      <td>0</td>\n",
       "      <td>0</td>\n",
       "      <td>0</td>\n",
       "      <td>0</td>\n",
       "      <td>0</td>\n",
       "      <td>1</td>\n",
       "      <td>4</td>\n",
       "      <td>Waiting to Exhale (1995)</td>\n",
       "      <td>31357</td>\n",
       "    </tr>\n",
       "    <tr>\n",
       "      <th>4</th>\n",
       "      <td>0</td>\n",
       "      <td>0</td>\n",
       "      <td>0</td>\n",
       "      <td>0</td>\n",
       "      <td>0</td>\n",
       "      <td>1</td>\n",
       "      <td>0</td>\n",
       "      <td>0</td>\n",
       "      <td>0</td>\n",
       "      <td>0</td>\n",
       "      <td>...</td>\n",
       "      <td>0</td>\n",
       "      <td>0</td>\n",
       "      <td>0</td>\n",
       "      <td>0</td>\n",
       "      <td>0</td>\n",
       "      <td>0</td>\n",
       "      <td>0</td>\n",
       "      <td>5</td>\n",
       "      <td>Father of the Bride Part II (1995)</td>\n",
       "      <td>11862</td>\n",
       "    </tr>\n",
       "  </tbody>\n",
       "</table>\n",
       "<p>5 rows × 48 columns</p>\n",
       "</div>"
      ],
      "text/plain": [
       "   action  adventure  animation  biopic  childhood  comedy  crime  death  \\\n",
       "0       0          1          1       0          1       0      0      0   \n",
       "1       0          1          1       0          1       0      0      0   \n",
       "2       0          0          0       0          0       1      0      0   \n",
       "3       0          0          0       0          0       0      0      0   \n",
       "4       0          0          0       0          0       1      0      0   \n",
       "\n",
       "   documentary  drama   ...    teen  true story  violent  visual  war  \\\n",
       "0            0      0   ...       0           0        0       0    0   \n",
       "1            0      0   ...       0           0        0       0    0   \n",
       "2            0      0   ...       0           0        0       0    0   \n",
       "3            0      0   ...       0           0        0       0    0   \n",
       "4            0      0   ...       0           0        0       0    0   \n",
       "\n",
       "   western  women  movieId                               title  tmdbId  \n",
       "0        0      0        1                    Toy Story (1995)     862  \n",
       "1        0      0        2                      Jumanji (1995)    8844  \n",
       "2        0      0        3             Grumpier Old Men (1995)   15602  \n",
       "3        0      1        4            Waiting to Exhale (1995)   31357  \n",
       "4        0      0        5  Father of the Bride Part II (1995)   11862  \n",
       "\n",
       "[5 rows x 48 columns]"
      ]
     },
     "execution_count": 15,
     "metadata": {},
     "output_type": "execute_result"
    }
   ],
   "source": [
    "#make genome tags binary; anything with score > 0.75 is true\n",
    "genome_tags_binary = genome_tags.drop(['title', 'tmdbId', 'movieId'], axis = 1) > 0.75\n",
    "genome_tags_binary = (genome_tags_binary*1).apply(pd.to_numeric)\n",
    "genome_tags_binary[['movieId', 'title', 'tmdbId']] = genome_tags[['movieId','title', 'tmdbId']]\n",
    "genome_tags_binary.head()"
   ]
  },
  {
   "cell_type": "code",
   "execution_count": 16,
   "metadata": {},
   "outputs": [
    {
     "data": {
      "text/plain": [
       "melancholic_wierd    3641\n",
       "crime                2260\n",
       "comedy               1605\n",
       "action               1535\n",
       "violent              1265\n",
       "romance              1235\n",
       "mentor               1228\n",
       "drama                1072\n",
       "horror               1037\n",
       "visual                843\n",
       "family                822\n",
       "scifi                 706\n",
       "war                   643\n",
       "sexual                638\n",
       "fun                   627\n",
       "friendships           624\n",
       "teen                  617\n",
       "animation             578\n",
       "childhood             548\n",
       "music                 494\n",
       "adventure             425\n",
       "documentary           383\n",
       "true story            360\n",
       "feel_good             357\n",
       "political             355\n",
       "gunfight              344\n",
       "life_death            319\n",
       "biopic                312\n",
       "gangsters             297\n",
       "sexy                  293\n",
       "fantasy               290\n",
       "drugs                 275\n",
       "death                 260\n",
       "women                 255\n",
       "spy                   246\n",
       "smalltown             233\n",
       "drinking              230\n",
       "satire                219\n",
       "superhero             210\n",
       "sports                206\n",
       "japan                 190\n",
       "gay                   184\n",
       "western               157\n",
       "indians               154\n",
       "spoof                 154\n",
       "dtype: int64"
      ]
     },
     "execution_count": 16,
     "metadata": {},
     "output_type": "execute_result"
    }
   ],
   "source": [
    "#review movies per tag\n",
    "genome_tags_binary[topics].sum(axis = 0).sort_values(ascending = False)"
   ]
  },
  {
   "cell_type": "markdown",
   "metadata": {},
   "source": [
    "## Get Movie Overviews\n",
    "\n",
    "Use tmdb API to get movie overviews for each tagged movie. This can take some time so save result to use for later."
   ]
  },
  {
   "cell_type": "code",
   "execution_count": 17,
   "metadata": {},
   "outputs": [
    {
     "data": {
      "text/plain": [
       "'\\noverviews = collections.defaultdict(dict)\\n\\nmovie_list = genome_tags[[\\'movieId\\', \\'title\\', \\'tmdbId\\']]\\n\\nfor i in movie_list[\\'tmdbId\\']:\\n    try:\\n        #api call to get movie poster path\\n        movie = tmdb.Movies(i)\\n        movie.info()\\n    \\n    except requests.exceptions.HTTPError:\\n        print(\"tmbdId %s doesn\\'t exist\" %i)\\n        overviews[i][\\'tmdbId_exist\\'] = 0\\n        continue\\n    \\n    else:\\n        overviews[i][\\'tmdbId_exist\\'] = 1\\n        overviews[i][\\'overview\\'] = movie.info()[\\'overview\\']\\n        overviews[i][\\'title\\'] = movie.info()[\\'title\\']\\n        time.sleep(.5)\\n\\noverviews_df = pd.DataFrame.from_dict(overviews, orient = \\'index\\')\\n\\n\\n#pickle movie overviews\\nwith open(\\'overviews_df.pickle\\', \\'wb\\') as handle:\\n    pickle.dump(overviews_df, handle, protocol=pickle.HIGHEST_PROTOCOL)\\n\\n'"
      ]
     },
     "execution_count": 17,
     "metadata": {},
     "output_type": "execute_result"
    }
   ],
   "source": [
    "'''\n",
    "overviews = collections.defaultdict(dict)\n",
    "\n",
    "movie_list = genome_tags[['movieId', 'title', 'tmdbId']]\n",
    "\n",
    "for i in movie_list['tmdbId']:\n",
    "    try:\n",
    "        #api call to get movie poster path\n",
    "        movie = tmdb.Movies(i)\n",
    "        movie.info()\n",
    "    \n",
    "    except requests.exceptions.HTTPError:\n",
    "        print(\"tmbdId %s doesn't exist\" %i)\n",
    "        overviews[i]['tmdbId_exist'] = 0\n",
    "        continue\n",
    "    \n",
    "    else:\n",
    "        overviews[i]['tmdbId_exist'] = 1\n",
    "        overviews[i]['overview'] = movie.info()['overview']\n",
    "        overviews[i]['title'] = movie.info()['title']\n",
    "        time.sleep(.5)\n",
    "\n",
    "overviews_df = pd.DataFrame.from_dict(overviews, orient = 'index')\n",
    "\n",
    "\n",
    "#pickle movie overviews\n",
    "with open('overviews_df.pickle', 'wb') as handle:\n",
    "    pickle.dump(overviews_df, handle, protocol=pickle.HIGHEST_PROTOCOL)\n",
    "\n",
    "'''"
   ]
  },
  {
   "cell_type": "markdown",
   "metadata": {},
   "source": [
    "## Create final dataset\n",
    "\n",
    "Final dataset should be a list of 10000 movies, 49 binary flags for each of the tag clusters, and the text overview"
   ]
  },
  {
   "cell_type": "code",
   "execution_count": 18,
   "metadata": {},
   "outputs": [],
   "source": [
    "#Merge number of competitors to listings data\n",
    "with open('overviews_df.pickle', 'rb') as handle:\n",
    "    overviews_df = pickle.load(handle)"
   ]
  },
  {
   "cell_type": "code",
   "execution_count": 19,
   "metadata": {},
   "outputs": [
    {
     "data": {
      "text/html": [
       "<div>\n",
       "<style scoped>\n",
       "    .dataframe tbody tr th:only-of-type {\n",
       "        vertical-align: middle;\n",
       "    }\n",
       "\n",
       "    .dataframe tbody tr th {\n",
       "        vertical-align: top;\n",
       "    }\n",
       "\n",
       "    .dataframe thead th {\n",
       "        text-align: right;\n",
       "    }\n",
       "</style>\n",
       "<table border=\"1\" class=\"dataframe\">\n",
       "  <thead>\n",
       "    <tr style=\"text-align: right;\">\n",
       "      <th></th>\n",
       "      <th>tmdbId_exist</th>\n",
       "      <th>overview</th>\n",
       "      <th>title</th>\n",
       "    </tr>\n",
       "  </thead>\n",
       "  <tbody>\n",
       "    <tr>\n",
       "      <th>2</th>\n",
       "      <td>1</td>\n",
       "      <td>Taisto Kasurinen is a Finnish coal miner whose...</td>\n",
       "      <td>Ariel</td>\n",
       "    </tr>\n",
       "    <tr>\n",
       "      <th>5</th>\n",
       "      <td>1</td>\n",
       "      <td>It's Ted the Bellhop's first night on the job....</td>\n",
       "      <td>Four Rooms</td>\n",
       "    </tr>\n",
       "    <tr>\n",
       "      <th>6</th>\n",
       "      <td>1</td>\n",
       "      <td>While racing to a boxing match, Frank, Mike, J...</td>\n",
       "      <td>Judgment Night</td>\n",
       "    </tr>\n",
       "    <tr>\n",
       "      <th>11</th>\n",
       "      <td>1</td>\n",
       "      <td>Princess Leia is captured and held hostage by ...</td>\n",
       "      <td>Star Wars</td>\n",
       "    </tr>\n",
       "    <tr>\n",
       "      <th>12</th>\n",
       "      <td>1</td>\n",
       "      <td>Nemo, an adventurous young clownfish, is unexp...</td>\n",
       "      <td>Finding Nemo</td>\n",
       "    </tr>\n",
       "  </tbody>\n",
       "</table>\n",
       "</div>"
      ],
      "text/plain": [
       "    tmdbId_exist                                           overview  \\\n",
       "2              1  Taisto Kasurinen is a Finnish coal miner whose...   \n",
       "5              1  It's Ted the Bellhop's first night on the job....   \n",
       "6              1  While racing to a boxing match, Frank, Mike, J...   \n",
       "11             1  Princess Leia is captured and held hostage by ...   \n",
       "12             1  Nemo, an adventurous young clownfish, is unexp...   \n",
       "\n",
       "             title  \n",
       "2            Ariel  \n",
       "5       Four Rooms  \n",
       "6   Judgment Night  \n",
       "11       Star Wars  \n",
       "12    Finding Nemo  "
      ]
     },
     "execution_count": 19,
     "metadata": {},
     "output_type": "execute_result"
    }
   ],
   "source": [
    "overviews_df.head()"
   ]
  },
  {
   "cell_type": "code",
   "execution_count": 20,
   "metadata": {},
   "outputs": [
    {
     "name": "stdout",
     "output_type": "stream",
     "text": [
      "Overview for Toy Story\n"
     ]
    },
    {
     "data": {
      "text/plain": [
       "\"Led by Woody, Andy's toys live happily in his room until Andy's birthday brings Buzz Lightyear onto the scene. Afraid of losing his place in Andy's heart, Woody plots against Buzz. But when circumstances separate Buzz and Woody from their owner, the duo eventually learns to put aside their differences.\""
      ]
     },
     "execution_count": 20,
     "metadata": {},
     "output_type": "execute_result"
    }
   ],
   "source": [
    "print('Overview for Toy Story')\n",
    "overviews_df['overview'][862]"
   ]
  },
  {
   "cell_type": "code",
   "execution_count": 21,
   "metadata": {},
   "outputs": [],
   "source": [
    "overviews_df = overviews_df.reset_index().rename(columns={'index':'tmdbId'})\n",
    "overviews_df.overview=overviews_df.overview.astype(str)\n",
    "final= pd.merge(overviews_df, genome_tags_binary, left_on = 'tmdbId', right_on = 'tmdbId')"
   ]
  },
  {
   "cell_type": "code",
   "execution_count": 22,
   "metadata": {},
   "outputs": [],
   "source": [
    "#remove those with null overviews\n",
    "final = final[final['overview'] != 'nan']"
   ]
  },
  {
   "cell_type": "code",
   "execution_count": 23,
   "metadata": {},
   "outputs": [
    {
     "data": {
      "text/plain": [
       "10907"
      ]
     },
     "execution_count": 23,
     "metadata": {},
     "output_type": "execute_result"
    }
   ],
   "source": [
    "len(final)"
   ]
  },
  {
   "cell_type": "code",
   "execution_count": 24,
   "metadata": {},
   "outputs": [
    {
     "data": {
      "text/html": [
       "<div>\n",
       "<style scoped>\n",
       "    .dataframe tbody tr th:only-of-type {\n",
       "        vertical-align: middle;\n",
       "    }\n",
       "\n",
       "    .dataframe tbody tr th {\n",
       "        vertical-align: top;\n",
       "    }\n",
       "\n",
       "    .dataframe thead th {\n",
       "        text-align: right;\n",
       "    }\n",
       "</style>\n",
       "<table border=\"1\" class=\"dataframe\">\n",
       "  <thead>\n",
       "    <tr style=\"text-align: right;\">\n",
       "      <th></th>\n",
       "      <th>tmdbId</th>\n",
       "      <th>tmdbId_exist</th>\n",
       "      <th>overview</th>\n",
       "      <th>title_x</th>\n",
       "      <th>action</th>\n",
       "      <th>adventure</th>\n",
       "      <th>animation</th>\n",
       "      <th>biopic</th>\n",
       "      <th>childhood</th>\n",
       "      <th>comedy</th>\n",
       "      <th>...</th>\n",
       "      <th>superhero</th>\n",
       "      <th>teen</th>\n",
       "      <th>true story</th>\n",
       "      <th>violent</th>\n",
       "      <th>visual</th>\n",
       "      <th>war</th>\n",
       "      <th>western</th>\n",
       "      <th>women</th>\n",
       "      <th>movieId</th>\n",
       "      <th>title_y</th>\n",
       "    </tr>\n",
       "  </thead>\n",
       "  <tbody>\n",
       "    <tr>\n",
       "      <th>0</th>\n",
       "      <td>2</td>\n",
       "      <td>1</td>\n",
       "      <td>Taisto Kasurinen is a Finnish coal miner whose...</td>\n",
       "      <td>Ariel</td>\n",
       "      <td>0</td>\n",
       "      <td>0</td>\n",
       "      <td>0</td>\n",
       "      <td>0</td>\n",
       "      <td>0</td>\n",
       "      <td>0</td>\n",
       "      <td>...</td>\n",
       "      <td>0</td>\n",
       "      <td>0</td>\n",
       "      <td>0</td>\n",
       "      <td>0</td>\n",
       "      <td>0</td>\n",
       "      <td>0</td>\n",
       "      <td>0</td>\n",
       "      <td>0</td>\n",
       "      <td>4470</td>\n",
       "      <td>Ariel (1988)</td>\n",
       "    </tr>\n",
       "    <tr>\n",
       "      <th>1</th>\n",
       "      <td>5</td>\n",
       "      <td>1</td>\n",
       "      <td>It's Ted the Bellhop's first night on the job....</td>\n",
       "      <td>Four Rooms</td>\n",
       "      <td>0</td>\n",
       "      <td>0</td>\n",
       "      <td>0</td>\n",
       "      <td>0</td>\n",
       "      <td>0</td>\n",
       "      <td>0</td>\n",
       "      <td>...</td>\n",
       "      <td>0</td>\n",
       "      <td>0</td>\n",
       "      <td>0</td>\n",
       "      <td>0</td>\n",
       "      <td>0</td>\n",
       "      <td>0</td>\n",
       "      <td>0</td>\n",
       "      <td>0</td>\n",
       "      <td>18</td>\n",
       "      <td>Four Rooms (1995)</td>\n",
       "    </tr>\n",
       "    <tr>\n",
       "      <th>2</th>\n",
       "      <td>6</td>\n",
       "      <td>1</td>\n",
       "      <td>While racing to a boxing match, Frank, Mike, J...</td>\n",
       "      <td>Judgment Night</td>\n",
       "      <td>1</td>\n",
       "      <td>0</td>\n",
       "      <td>0</td>\n",
       "      <td>0</td>\n",
       "      <td>0</td>\n",
       "      <td>0</td>\n",
       "      <td>...</td>\n",
       "      <td>0</td>\n",
       "      <td>0</td>\n",
       "      <td>0</td>\n",
       "      <td>0</td>\n",
       "      <td>0</td>\n",
       "      <td>0</td>\n",
       "      <td>0</td>\n",
       "      <td>0</td>\n",
       "      <td>479</td>\n",
       "      <td>Judgment Night (1993)</td>\n",
       "    </tr>\n",
       "    <tr>\n",
       "      <th>3</th>\n",
       "      <td>11</td>\n",
       "      <td>1</td>\n",
       "      <td>Princess Leia is captured and held hostage by ...</td>\n",
       "      <td>Star Wars</td>\n",
       "      <td>1</td>\n",
       "      <td>1</td>\n",
       "      <td>0</td>\n",
       "      <td>0</td>\n",
       "      <td>1</td>\n",
       "      <td>0</td>\n",
       "      <td>...</td>\n",
       "      <td>0</td>\n",
       "      <td>0</td>\n",
       "      <td>0</td>\n",
       "      <td>0</td>\n",
       "      <td>1</td>\n",
       "      <td>1</td>\n",
       "      <td>0</td>\n",
       "      <td>0</td>\n",
       "      <td>260</td>\n",
       "      <td>Star Wars: Episode IV - A New Hope (1977)</td>\n",
       "    </tr>\n",
       "    <tr>\n",
       "      <th>4</th>\n",
       "      <td>12</td>\n",
       "      <td>1</td>\n",
       "      <td>Nemo, an adventurous young clownfish, is unexp...</td>\n",
       "      <td>Finding Nemo</td>\n",
       "      <td>0</td>\n",
       "      <td>1</td>\n",
       "      <td>1</td>\n",
       "      <td>0</td>\n",
       "      <td>1</td>\n",
       "      <td>1</td>\n",
       "      <td>...</td>\n",
       "      <td>0</td>\n",
       "      <td>0</td>\n",
       "      <td>0</td>\n",
       "      <td>0</td>\n",
       "      <td>1</td>\n",
       "      <td>0</td>\n",
       "      <td>0</td>\n",
       "      <td>0</td>\n",
       "      <td>6377</td>\n",
       "      <td>Finding Nemo (2003)</td>\n",
       "    </tr>\n",
       "  </tbody>\n",
       "</table>\n",
       "<p>5 rows × 51 columns</p>\n",
       "</div>"
      ],
      "text/plain": [
       "   tmdbId  tmdbId_exist                                           overview  \\\n",
       "0       2             1  Taisto Kasurinen is a Finnish coal miner whose...   \n",
       "1       5             1  It's Ted the Bellhop's first night on the job....   \n",
       "2       6             1  While racing to a boxing match, Frank, Mike, J...   \n",
       "3      11             1  Princess Leia is captured and held hostage by ...   \n",
       "4      12             1  Nemo, an adventurous young clownfish, is unexp...   \n",
       "\n",
       "          title_x  action  adventure  animation  biopic  childhood  comedy  \\\n",
       "0           Ariel       0          0          0       0          0       0   \n",
       "1      Four Rooms       0          0          0       0          0       0   \n",
       "2  Judgment Night       1          0          0       0          0       0   \n",
       "3       Star Wars       1          1          0       0          1       0   \n",
       "4    Finding Nemo       0          1          1       0          1       1   \n",
       "\n",
       "                     ...                      superhero  teen  true story  \\\n",
       "0                    ...                              0     0           0   \n",
       "1                    ...                              0     0           0   \n",
       "2                    ...                              0     0           0   \n",
       "3                    ...                              0     0           0   \n",
       "4                    ...                              0     0           0   \n",
       "\n",
       "   violent  visual  war  western  women  movieId  \\\n",
       "0        0       0    0        0      0     4470   \n",
       "1        0       0    0        0      0       18   \n",
       "2        0       0    0        0      0      479   \n",
       "3        0       1    1        0      0      260   \n",
       "4        0       1    0        0      0     6377   \n",
       "\n",
       "                                     title_y  \n",
       "0                               Ariel (1988)  \n",
       "1                          Four Rooms (1995)  \n",
       "2                      Judgment Night (1993)  \n",
       "3  Star Wars: Episode IV - A New Hope (1977)  \n",
       "4                        Finding Nemo (2003)  \n",
       "\n",
       "[5 rows x 51 columns]"
      ]
     },
     "execution_count": 24,
     "metadata": {},
     "output_type": "execute_result"
    }
   ],
   "source": [
    "final.head()"
   ]
  },
  {
   "cell_type": "markdown",
   "metadata": {},
   "source": [
    "## Modeling\n",
    "\n",
    "Split dataset into training and test sets.  Use one tag as outcome for now.  \n",
    "\n",
    "Feature set should be Tf-IDF matrix of overview text with stop words removed and lemmitization applied.  Try with vocabulary of 800 terms (~10% of training instances)"
   ]
  },
  {
   "cell_type": "code",
   "execution_count": 25,
   "metadata": {},
   "outputs": [],
   "source": [
    "train_set, test_set= train_test_split(final, test_size = 0.33)\n",
    "\n",
    "train_1 = train_set[train_set['comedy'] == 1]\n",
    "train_0 = train_set[train_set['comedy'] == 0]\n",
    "train_0 = train_0.sample(n = len(train_1)*4)\n",
    "\n",
    "train_set = pd.concat([train_1, train_0])\n",
    "\n",
    "X_train = train_set['overview']\n",
    "y_train = train_set['comedy']\n",
    "X_test = test_set['overview']\n",
    "y_test = test_set['comedy']\n",
    "\n",
    "n_features = len(train_set)/10"
   ]
  },
  {
   "cell_type": "code",
   "execution_count": 26,
   "metadata": {},
   "outputs": [],
   "source": [
    "X_train, X_test, y_train, y_test = train_test_split(final['overview'], final['action'], test_size = 0.33, random_state = 412)"
   ]
  },
  {
   "cell_type": "code",
   "execution_count": 27,
   "metadata": {},
   "outputs": [
    {
     "data": {
      "text/plain": [
       "7307"
      ]
     },
     "execution_count": 27,
     "metadata": {},
     "output_type": "execute_result"
    }
   ],
   "source": [
    "len(X_train)"
   ]
  },
  {
   "cell_type": "code",
   "execution_count": 28,
   "metadata": {},
   "outputs": [
    {
     "data": {
      "text/plain": [
       "7302"
      ]
     },
     "execution_count": 28,
     "metadata": {},
     "output_type": "execute_result"
    }
   ],
   "source": [
    "X_train.nunique()"
   ]
  },
  {
   "cell_type": "code",
   "execution_count": 31,
   "metadata": {},
   "outputs": [
    {
     "name": "stdout",
     "output_type": "stream",
     "text": [
      "---------------------------------\n",
      "SGDClassifier(alpha=0.0001, average=False, class_weight=None, epsilon=0.1,\n",
      "       eta0=0.0, fit_intercept=True, l1_ratio=0.15,\n",
      "       learning_rate='optimal', loss='log', max_iter=120, n_iter=None,\n",
      "       n_jobs=1, penalty='elasticnet', power_t=0.5, random_state=None,\n",
      "       shuffle=True, tol=None, verbose=0, warm_start=False)\n",
      "-----------------------------------\n",
      "fit_time  mean  7.719654178619384\n",
      "fit_time  std  0.16703602800977488\n",
      "score_time  mean  1.879312515258789\n",
      "score_time  std  0.07901877503397267\n",
      "test_score  mean  0.8743679258340679\n",
      "test_score  std  0.003951122890628534\n",
      "---------------------------------\n",
      "KNeighborsClassifier(algorithm='auto', leaf_size=30, metric='minkowski',\n",
      "           metric_params=None, n_jobs=1, n_neighbors=5, p=2,\n",
      "           weights='uniform')\n",
      "-----------------------------------\n",
      "fit_time  mean  7.9688928604125975\n",
      "fit_time  std  0.13620235229699712\n",
      "score_time  mean  2.2493283271789553\n",
      "score_time  std  0.07938552227466265\n",
      "test_score  mean  0.8613659407857869\n",
      "test_score  std  0.0006681291900228261\n",
      "---------------------------------\n",
      "RandomForestClassifier(bootstrap=True, class_weight=None, criterion='gini',\n",
      "            max_depth=None, max_features='auto', max_leaf_nodes=None,\n",
      "            min_impurity_decrease=0.0, min_impurity_split=None,\n",
      "            min_samples_leaf=1, min_samples_split=2,\n",
      "            min_weight_fraction_leaf=0.0, n_estimators=10, n_jobs=1,\n",
      "            oob_score=False, random_state=None, verbose=0,\n",
      "            warm_start=False)\n",
      "-----------------------------------\n",
      "fit_time  mean  8.353733205795288\n",
      "fit_time  std  0.07442883983577724\n",
      "score_time  mean  2.032043790817261\n",
      "score_time  std  0.022546137889969644\n",
      "test_score  mean  0.8627336482993039\n",
      "test_score  std  0.004275265217224205\n",
      "---------------------------------\n",
      "SVC(C=1.0, cache_size=200, class_weight=None, coef0=0.0,\n",
      "  decision_function_shape='ovr', degree=3, gamma='auto', kernel='rbf',\n",
      "  max_iter=-1, probability=False, random_state=None, shrinking=True,\n",
      "  tol=0.001, verbose=False)\n",
      "-----------------------------------\n",
      "fit_time  mean  9.257901811599732\n",
      "fit_time  std  0.18876414844597897\n",
      "score_time  mean  2.254414749145508\n",
      "score_time  std  0.05006456275874287\n",
      "test_score  mean  0.861229048118165\n",
      "test_score  std  0.00021063477310596205\n",
      "---------------------------------\n",
      "MultinomialNB(alpha=1.0, class_prior=None, fit_prior=True)\n",
      "-----------------------------------\n",
      "fit_time  mean  8.05958046913147\n",
      "fit_time  std  0.0863630177245464\n",
      "score_time  mean  1.987842845916748\n",
      "score_time  std  0.07411147515782225\n",
      "test_score  mean  0.8660187897535383\n",
      "test_score  std  0.0026495621421200456\n"
     ]
    }
   ],
   "source": [
    "#Create a list of classifiers to test\n",
    "clfs = []\n",
    "clfs.append(SGDClassifier(loss = 'log', penalty = 'elasticnet', max_iter = 120))\n",
    "clfs.append(KNeighborsClassifier())\n",
    "clfs.append(RandomForestClassifier())\n",
    "clfs.append(SVC())\n",
    "clfs.append(MultinomialNB())\n",
    "\n",
    "stemmer = PorterStemmer()\n",
    "analyzer = CountVectorizer().build_analyzer()\n",
    "\n",
    "def stemming(doc):\n",
    "    return (stemmer.stem(w) for w in analyzer(doc))\n",
    "\n",
    "\n",
    "stemmer = PorterStemmer()\n",
    "def stem_tokens(tokens, stemmer):\n",
    "    stemmed = []\n",
    "    for item in tokens:\n",
    "        stemmed.append(stemmer.stem(item))\n",
    "    return stemmed\n",
    "\n",
    "def tokenize(text):\n",
    "    tokens = nltk.word_tokenize(text)\n",
    "    tokens = [i for i in tokens if i not in string.punctuation]\n",
    "    stems = stem_tokens(tokens, stemmer)\n",
    "    return stems\n",
    "\n",
    "\n",
    "pipeline = Pipeline([('vect', CountVectorizer(tokenizer=tokenize , stop_words='english', max_features = 700)),\n",
    "                      ('tfidf', TfidfTransformer()),\n",
    "                      ('clf', MultinomialNB()),\n",
    "])\n",
    "\n",
    "\n",
    "\n",
    "#Run through the pipeline for each classifier in the list\n",
    "#Can take awhile to run\n",
    "for classifier in clfs:\n",
    "    pipeline.set_params(clf = classifier)\n",
    "    scores = cross_validate(pipeline, X_train, y_train, scoring = 'accuracy', return_train_score = False, cv = 5)\n",
    "    print('---------------------------------')\n",
    "    print(str(classifier))\n",
    "    print('-----------------------------------')\n",
    "    for key, values in scores.items():\n",
    "            print(key,' mean ', values.mean())\n",
    "            print(key,' std ', values.std())"
   ]
  },
  {
   "cell_type": "markdown",
   "metadata": {},
   "source": [
    "Classifiers perform similarly so try hyperparameter tuning with Logistic Regression"
   ]
  },
  {
   "cell_type": "code",
   "execution_count": 124,
   "metadata": {},
   "outputs": [],
   "source": [
    "pipeline.set_params(clf = (SGDClassifier(loss = 'log', penalty = 'elasticnet', max_iter = 120)))\n",
    "\n",
    "param_grid = {\n",
    "    'vect__max_df': [0.7, 0.6, 0.5],\n",
    "    'vect__min_df': [0.01, 0.05, 0.1],\n",
    "    'clf__l1_ratio' :  np.linspace(0.1,1,5),\n",
    "}\n",
    "\n",
    "cv_grid = GridSearchCV(pipeline, param_grid = param_grid, scoring = 'accuracy', cv = 5, verbose = 1)"
   ]
  },
  {
   "cell_type": "code",
   "execution_count": 125,
   "metadata": {},
   "outputs": [
    {
     "name": "stdout",
     "output_type": "stream",
     "text": [
      "Fitting 5 folds for each of 45 candidates, totalling 225 fits\n"
     ]
    },
    {
     "name": "stderr",
     "output_type": "stream",
     "text": [
      "[Parallel(n_jobs=1)]: Done 225 out of 225 | elapsed: 62.6min finished\n"
     ]
    }
   ],
   "source": [
    "model = cv_grid.fit(X_train, y_train)"
   ]
  },
  {
   "cell_type": "code",
   "execution_count": 126,
   "metadata": {},
   "outputs": [
    {
     "name": "stdout",
     "output_type": "stream",
     "text": [
      "Parameters: {'clf__l1_ratio': 0.775, 'vect__max_df': 0.7, 'vect__min_df': 0.01}\n",
      "Best Score: 0.8710825236074996\n"
     ]
    }
   ],
   "source": [
    "print('Parameters:', model.best_params_)\n",
    "print('Best Score:', model.best_score_)"
   ]
  },
  {
   "cell_type": "code",
   "execution_count": 127,
   "metadata": {},
   "outputs": [
    {
     "data": {
      "text/plain": [
       "139"
      ]
     },
     "execution_count": 127,
     "metadata": {},
     "output_type": "execute_result"
    }
   ],
   "source": [
    "model.predict(X_test).sum()"
   ]
  },
  {
   "cell_type": "code",
   "execution_count": 128,
   "metadata": {},
   "outputs": [
    {
     "name": "stdout",
     "output_type": "stream",
     "text": [
      "positive class 512\n",
      "positive prevalance 0.14222222222222222\n"
     ]
    }
   ],
   "source": [
    "print('positive class', y_test.sum())\n",
    "print('positive prevalance', y_test.sum()/len(y_test))"
   ]
  },
  {
   "cell_type": "code",
   "execution_count": 129,
   "metadata": {},
   "outputs": [
    {
     "data": {
      "image/png": "[encoded data removed]",
      "text/plain": [
       "<Figure size 432x288 with 1 Axes>"
      ]
     },
     "metadata": {},
     "output_type": "display_data"
    },
    {
     "name": "stdout",
     "output_type": "stream",
     "text": [
      "Confusion Matrix: \n",
      " [[3026   62]\n",
      " [ 435   77]]\n",
      "Accuracy: 86.194%\n",
      "Recall: 15.039%\n",
      "Precision: 55.396%\n"
     ]
    }
   ],
   "source": [
    "# Compute ROC curve and ROC area\n",
    "fpr = dict()\n",
    "tpr = dict()\n",
    "roc_auc = dict()\n",
    "y_score = model.predict_proba(X_test)[:,1]\n",
    "fpr, tpr, thresholds = roc_curve(y_test, y_score)\n",
    "roc_auc = auc(fpr, tpr)\n",
    "\n",
    "# Plot ROC curve\n",
    "plt.figure()\n",
    "plt.plot(fpr, tpr, color='darkorange',\n",
    "         label='ROC curve (area = %0.4f)' % roc_auc)\n",
    "plt.plot([0, 1], [0, 1], color='navy', linestyle='--')\n",
    "plt.xlim([0.0, 1.0])\n",
    "plt.ylim([0.0, 1.05])\n",
    "plt.xlabel('False Positive Rate')\n",
    "plt.ylabel('True Positive Rate')\n",
    "plt.title('Receiver operating characteristic example')\n",
    "plt.legend(loc=\"lower right\")\n",
    "plt.show()\n",
    "\n",
    "y_predict = model.predict(X_test)\n",
    "accuracy = accuracy_score(y_test,y_predict)\n",
    "recall = recall_score(y_test,y_predict)\n",
    "precision = precision_score(y_test,y_predict)\n",
    "\n",
    "print('Confusion Matrix: \\n', confusion_matrix(y_test, y_predict))\n",
    "print('Accuracy: %.3f%%' % (accuracy*100))\n",
    "print('Recall: %.3f%%' % (recall*100))\n",
    "print('Precision: %.3f%%' % (precision*100))"
   ]
  },
  {
   "cell_type": "code",
   "execution_count": 130,
   "metadata": {},
   "outputs": [
    {
     "data": {
      "image/png": "[encoded data removed]",
      "text/plain": [
       "<Figure size 720x720 with 2 Axes>"
      ]
     },
     "metadata": {},
     "output_type": "display_data"
    }
   ],
   "source": [
    "#Calibration Plot\n",
    "fraction_of_positives, mean_predicted_value = calibration_curve(y_test, y_score, n_bins=10)\n",
    "\n",
    "fig = plt.figure(figsize=(10, 10))\n",
    "ax1 = plt.subplot2grid((3, 1), (0, 0), rowspan=2)\n",
    "ax2 = plt.subplot2grid((3, 1), (2, 0))\n",
    "\n",
    "ax1.plot(mean_predicted_value, fraction_of_positives, \"s-\", label='logistic')\n",
    "ax1.plot([0, 1], [0, 1], \"k:\", label=\"Perfectly calibrated\")\n",
    "\n",
    "ax2.hist(y_score, range=(0, 1), bins=10, label='logistic', histtype=\"step\", lw=2)\n",
    "\n",
    "ax1.set_ylabel(\"Fraction of positives\")\n",
    "ax1.set_ylim([-0.05, 1.05])\n",
    "ax1.legend(loc=\"lower right\")\n",
    "ax1.set_title('Calibration plots  (reliability curve)')\n",
    "\n",
    "ax2.set_xlabel(\"Mean predicted value\")\n",
    "ax2.set_ylabel(\"Count\")\n",
    "ax2.legend(loc=\"upper center\", ncol=2)\n",
    "\n",
    "plt.tight_layout()\n",
    "\n",
    "plt.show()"
   ]
  },
  {
   "cell_type": "markdown",
   "metadata": {},
   "source": [
    "## Scratch Pad"
   ]
  },
  {
   "cell_type": "code",
   "execution_count": 131,
   "metadata": {},
   "outputs": [
    {
     "data": {
      "text/plain": [
       "features\n",
       "assassin       4.368256\n",
       "cop            3.528429\n",
       "agent          3.166229\n",
       "art            3.154215\n",
       "live          -2.943349\n",
       "enemi          2.915718\n",
       "tale          -2.819943\n",
       "russian        2.557011\n",
       "lover         -2.548750\n",
       "master         2.523193\n",
       "–              2.464364\n",
       "danger         2.441276\n",
       "stop           2.417624\n",
       "mother        -2.415376\n",
       "deadli         2.386046\n",
       "govern         2.326520\n",
       "writer        -2.318218\n",
       "colleg        -2.302036\n",
       "kill           2.258168\n",
       "fight          2.252207\n",
       "anim          -2.219574\n",
       "militari       2.176021\n",
       "documentari   -2.125935\n",
       "film          -2.112333\n",
       "u.s.           2.072357\n",
       "explor        -2.051141\n",
       "oper           2.047265\n",
       "led            2.003399\n",
       "train          1.995920\n",
       "act           -1.989858\n",
       "Name: coefficients, dtype: float64"
      ]
     },
     "execution_count": 131,
     "metadata": {},
     "output_type": "execute_result"
    }
   ],
   "source": [
    "#Get feature importances by getting coef per each feature\n",
    "features = model.best_estimator_.named_steps['vect'].get_feature_names()\n",
    "\n",
    "coefficients = model.best_estimator_.named_steps['clf'].coef_\n",
    "coefficients = np.squeeze(coefficients)\n",
    "coefficients = pd.DataFrame(\n",
    "    {'features': features,\n",
    "     'coefficients': coefficients\n",
    "    })\n",
    "\n",
    "coefficients.set_index('features', inplace = True)\n",
    "coefficients['abs'] = abs(coefficients['coefficients'])\n",
    "coeffcients = coefficients.sort_values(by= ['abs'], ascending = False, inplace = True)\n",
    "coefficients['coefficients'][:30]"
   ]
  },
  {
   "cell_type": "code",
   "execution_count": 132,
   "metadata": {},
   "outputs": [],
   "source": [
    "action_pred = model.predict(X_test)"
   ]
  },
  {
   "cell_type": "code",
   "execution_count": 133,
   "metadata": {},
   "outputs": [
    {
     "data": {
      "text/plain": [
       "4210     Seibei Iguchi leads a difficult life as a low ...\n",
       "10818    A crime drama set in 1970s Boston, about a gun...\n",
       "1858     When a train carrying atomic warheads mysterio...\n",
       "8742     John Carter is a war-weary, former military ca...\n",
       "1044     In AD 922, Arab courtier, Ahmad Ibn Fadlan acc...\n",
       "5366     In Nazi-occupied France during World War II, a...\n",
       "4066     Alice hires a professional negotiator to obtai...\n",
       "687      Veteran buttoned-down LAPD detective Roger Mur...\n",
       "10784    Deboot of the Power Rangers. Joseph Kahn's tak...\n",
       "5891     In the year 2019, a plague has transformed alm...\n",
       "10212    The story of a super-secret spy organization t...\n",
       "5093     Philo Beddoe is your regular, easygoing, truck...\n",
       "3456     Miles Logan is a jewel thief who just hit the ...\n",
       "2632     Upon learning that he has to come out of retir...\n",
       "536      A man is accidentally transported to 1300 A.D....\n",
       "2545     Tough guy Thomas Beckett is an US soldier work...\n",
       "10373    Ex-hitman John Wick comes out of retirement to...\n",
       "3484     A mysterious, tall, blonde woman wearing sungl...\n",
       "9233     In the year 2159, two classes of people exist:...\n",
       "10606    An Oscar-winning writer in a slump leaves Holl...\n",
       "7672     An unexpected inheritance proves less than a b...\n",
       "10327    A woman, accidentally caught in a dark deal, t...\n",
       "6280     Skillfully framed by an unknown enemy for the ...\n",
       "7122     An android fighting-machine (Mario Van Peebles...\n",
       "3803     Everyone abuses and humiliates a downtrodden o...\n",
       "5474     Intrepid young reporter, Tintin, and his loyal...\n",
       "6005     The California Atoms are in last place with no...\n",
       "10955    Martial law is declared when a mysterious vira...\n",
       "1507     A man named Mr. Smith delivers a woman's baby ...\n",
       "601      Travelling businessman, David Mann, angers the...\n",
       "                               ...                        \n",
       "2241     While on a family vacation,  rafting expert Ga...\n",
       "2404     Maverick is a gambler who would rather con som...\n",
       "9240     John Gregory, who is a seventh son of a sevent...\n",
       "1271     Bourne is brought out of hiding once again by ...\n",
       "6314     A 14th century Crusader returns with his comra...\n",
       "481      James Bond tracks his archnemesis, Ernst Blofe...\n",
       "4883     George Kuffs didn't finish high-school, just l...\n",
       "2731     The 21st successor to the role of Bengalla's r...\n",
       "1946     A marksman living in exile is coaxed back into...\n",
       "9081     Two French policemen, one investigating a gris...\n",
       "5176     'Guns' Donovan prefers carousing with his pals...\n",
       "1768     During his long career, bounty hunter Ralph \"P...\n",
       "2428     Seagal is Nico Toscani, an Italian immigrant, ...\n",
       "4647     Joong-ho is a dirty detective turned pimp in f...\n",
       "362      All grown up in post-apocalyptic 2018, John Co...\n",
       "8664     While conveying a Porsche from L.A. to Atlanti...\n",
       "4983     An old flame of Bruce Wayne's strolls into tow...\n",
       "4830     Nicole and Chase live next door to each other ...\n",
       "49       When Dr. Henry Jones Sr. suddenly goes missing...\n",
       "1435     It's three years after the events of the origi...\n",
       "6918     A television movie based upon the book by Brya...\n",
       "2606     The police try to arrest expert hostage negoti...\n",
       "5929     The story bases on four Finnish brothers, nick...\n",
       "2170     A man obsessed with conspiracy theories become...\n",
       "5470     The murder of her father sends a teenage tombo...\n",
       "4783     Jubei is a masterless ninja who travels the la...\n",
       "301      After years of increases in the greenhouse eff...\n",
       "359      Gromit finds himself being pushed out of his r...\n",
       "1052     Peter Parker is an outcast high schooler aband...\n",
       "1891     When a prostitute is found dead in a Los Angel...\n",
       "Name: overview, Length: 435, dtype: object"
      ]
     },
     "execution_count": 133,
     "metadata": {},
     "output_type": "execute_result"
    }
   ],
   "source": [
    "X_test[(action_pred == 0) & (y_test == 1)]"
   ]
  },
  {
   "cell_type": "code",
   "execution_count": 154,
   "metadata": {},
   "outputs": [
    {
     "data": {
      "text/plain": [
       "Pipeline(memory=None,\n",
       "     steps=[('vect', CountVectorizer(analyzer='word', binary=False, decode_error='strict',\n",
       "        dtype=<class 'numpy.int64'>, encoding='utf-8', input='content',\n",
       "        lowercase=True, max_df=0.7, max_features=700, min_df=0.01,\n",
       "        ngram_range=(1, 1), preprocessor=None, stop_words='english',\n",
       "      ...y=None)), ('tfidf', TfidfTransformer(norm='l2', smooth_idf=True, sublinear_tf=False, use_idf=True))])"
      ]
     },
     "execution_count": 154,
     "metadata": {},
     "output_type": "execute_result"
    }
   ],
   "source": [
    "pipeline2 = Pipeline([('vect', CountVectorizer(tokenizer=tokenize , \n",
    "                                               stop_words='english', \n",
    "                                               max_features = 700, \n",
    "                                               max_df = 0.7, min_df = 0.01)),\n",
    "                      ('tfidf', TfidfTransformer()),\n",
    "])\n",
    "pipeline2.fit(X_train)"
   ]
  },
  {
   "cell_type": "code",
   "execution_count": 155,
   "metadata": {},
   "outputs": [],
   "source": [
    "output = pipeline2.transform(X_test)"
   ]
  },
  {
   "cell_type": "code",
   "execution_count": 157,
   "metadata": {},
   "outputs": [],
   "source": [
    "output = pd.DataFrame(output.toarray())\n",
    "output['truth'] = y_test.reset_index(drop=True)\n",
    "output['pred'] = action_pred"
   ]
  },
  {
   "cell_type": "code",
   "execution_count": 168,
   "metadata": {},
   "outputs": [],
   "source": [
    "coefficients = model.best_estimator_.named_steps['clf'].coef_\n",
    "coefficients = np.squeeze(coefficients)"
   ]
  },
  {
   "cell_type": "code",
   "execution_count": 170,
   "metadata": {},
   "outputs": [
    {
     "data": {
      "text/html": [
       "<div>\n",
       "<style scoped>\n",
       "    .dataframe tbody tr th:only-of-type {\n",
       "        vertical-align: middle;\n",
       "    }\n",
       "\n",
       "    .dataframe tbody tr th {\n",
       "        vertical-align: top;\n",
       "    }\n",
       "\n",
       "    .dataframe thead th {\n",
       "        text-align: right;\n",
       "    }\n",
       "</style>\n",
       "<table border=\"1\" class=\"dataframe\">\n",
       "  <thead>\n",
       "    <tr style=\"text-align: right;\">\n",
       "      <th></th>\n",
       "      <th>0</th>\n",
       "      <th>features</th>\n",
       "      <th>coefficients</th>\n",
       "    </tr>\n",
       "  </thead>\n",
       "  <tbody>\n",
       "    <tr>\n",
       "      <th>211</th>\n",
       "      <td>0.101004</td>\n",
       "      <td>hi</td>\n",
       "      <td>1.323710</td>\n",
       "    </tr>\n",
       "    <tr>\n",
       "      <th>30</th>\n",
       "      <td>0.075108</td>\n",
       "      <td>assassin</td>\n",
       "      <td>4.368256</td>\n",
       "    </tr>\n",
       "    <tr>\n",
       "      <th>13</th>\n",
       "      <td>0.065606</td>\n",
       "      <td>agent</td>\n",
       "      <td>3.166229</td>\n",
       "    </tr>\n",
       "    <tr>\n",
       "      <th>182</th>\n",
       "      <td>0.049110</td>\n",
       "      <td>forc</td>\n",
       "      <td>1.608891</td>\n",
       "    </tr>\n",
       "    <tr>\n",
       "      <th>2</th>\n",
       "      <td>0.041660</td>\n",
       "      <td>'s</td>\n",
       "      <td>-0.383068</td>\n",
       "    </tr>\n",
       "    <tr>\n",
       "      <th>481</th>\n",
       "      <td>0.040900</td>\n",
       "      <td>world</td>\n",
       "      <td>0.622549</td>\n",
       "    </tr>\n",
       "    <tr>\n",
       "      <th>178</th>\n",
       "      <td>0.039202</td>\n",
       "      <td>fight</td>\n",
       "      <td>2.252207</td>\n",
       "    </tr>\n",
       "    <tr>\n",
       "      <th>487</th>\n",
       "      <td>0.038250</td>\n",
       "      <td>–</td>\n",
       "      <td>2.464364</td>\n",
       "    </tr>\n",
       "    <tr>\n",
       "      <th>289</th>\n",
       "      <td>0.037610</td>\n",
       "      <td>mission</td>\n",
       "      <td>1.172616</td>\n",
       "    </tr>\n",
       "    <tr>\n",
       "      <th>27</th>\n",
       "      <td>0.035102</td>\n",
       "      <td>art</td>\n",
       "      <td>3.154215</td>\n",
       "    </tr>\n",
       "    <tr>\n",
       "      <th>198</th>\n",
       "      <td>0.034631</td>\n",
       "      <td>govern</td>\n",
       "      <td>2.326520</td>\n",
       "    </tr>\n",
       "    <tr>\n",
       "      <th>340</th>\n",
       "      <td>0.033167</td>\n",
       "      <td>protect</td>\n",
       "      <td>1.511448</td>\n",
       "    </tr>\n",
       "    <tr>\n",
       "      <th>335</th>\n",
       "      <td>0.033038</td>\n",
       "      <td>power</td>\n",
       "      <td>1.923991</td>\n",
       "    </tr>\n",
       "    <tr>\n",
       "      <th>243</th>\n",
       "      <td>0.032483</td>\n",
       "      <td>kill</td>\n",
       "      <td>2.258168</td>\n",
       "    </tr>\n",
       "    <tr>\n",
       "      <th>203</th>\n",
       "      <td>0.030794</td>\n",
       "      <td>ha</td>\n",
       "      <td>0.617735</td>\n",
       "    </tr>\n",
       "    <tr>\n",
       "      <th>312</th>\n",
       "      <td>0.030525</td>\n",
       "      <td>oper</td>\n",
       "      <td>2.047265</td>\n",
       "    </tr>\n",
       "    <tr>\n",
       "      <th>223</th>\n",
       "      <td>0.030322</td>\n",
       "      <td>human</td>\n",
       "      <td>0.925744</td>\n",
       "    </tr>\n",
       "    <tr>\n",
       "      <th>102</th>\n",
       "      <td>0.029677</td>\n",
       "      <td>cop</td>\n",
       "      <td>3.528429</td>\n",
       "    </tr>\n",
       "    <tr>\n",
       "      <th>224</th>\n",
       "      <td>0.029369</td>\n",
       "      <td>hunt</td>\n",
       "      <td>1.212146</td>\n",
       "    </tr>\n",
       "    <tr>\n",
       "      <th>119</th>\n",
       "      <td>0.029272</td>\n",
       "      <td>deadli</td>\n",
       "      <td>2.386046</td>\n",
       "    </tr>\n",
       "  </tbody>\n",
       "</table>\n",
       "</div>"
      ],
      "text/plain": [
       "            0  features  coefficients\n",
       "211  0.101004        hi      1.323710\n",
       "30   0.075108  assassin      4.368256\n",
       "13   0.065606     agent      3.166229\n",
       "182  0.049110      forc      1.608891\n",
       "2    0.041660        's     -0.383068\n",
       "481  0.040900     world      0.622549\n",
       "178  0.039202     fight      2.252207\n",
       "487  0.038250         –      2.464364\n",
       "289  0.037610   mission      1.172616\n",
       "27   0.035102       art      3.154215\n",
       "198  0.034631    govern      2.326520\n",
       "340  0.033167   protect      1.511448\n",
       "335  0.033038     power      1.923991\n",
       "243  0.032483      kill      2.258168\n",
       "203  0.030794        ha      0.617735\n",
       "312  0.030525      oper      2.047265\n",
       "223  0.030322     human      0.925744\n",
       "102  0.029677       cop      3.528429\n",
       "224  0.029369      hunt      1.212146\n",
       "119  0.029272    deadli      2.386046"
      ]
     },
     "execution_count": 170,
     "metadata": {},
     "output_type": "execute_result"
    }
   ],
   "source": [
    "#what words are most associated with true positives?\n",
    "tp_features_sum = (pd.DataFrame(output.loc[(output['truth'] == 1) & (output['pred'] == 1), ].mean(axis = 0))\n",
    "                                .drop(['truth', 'pred']))\n",
    "\n",
    "tp_features_sum['features'] = features\n",
    "tp_features_sum['coefficients'] = coefficients\n",
    "tp_features_sum.sort_values(by = 0, ascending = False, inplace = True)\n",
    "tp_features_sum.head(20)"
   ]
  },
  {
   "cell_type": "code",
   "execution_count": 171,
   "metadata": {},
   "outputs": [
    {
     "data": {
      "text/html": [
       "<div>\n",
       "<style scoped>\n",
       "    .dataframe tbody tr th:only-of-type {\n",
       "        vertical-align: middle;\n",
       "    }\n",
       "\n",
       "    .dataframe tbody tr th {\n",
       "        vertical-align: top;\n",
       "    }\n",
       "\n",
       "    .dataframe thead th {\n",
       "        text-align: right;\n",
       "    }\n",
       "</style>\n",
       "<table border=\"1\" class=\"dataframe\">\n",
       "  <thead>\n",
       "    <tr style=\"text-align: right;\">\n",
       "      <th></th>\n",
       "      <th>0</th>\n",
       "      <th>features</th>\n",
       "      <th>coefficients</th>\n",
       "    </tr>\n",
       "  </thead>\n",
       "  <tbody>\n",
       "    <tr>\n",
       "      <th>211</th>\n",
       "      <td>0.089877</td>\n",
       "      <td>hi</td>\n",
       "      <td>1.323710</td>\n",
       "    </tr>\n",
       "    <tr>\n",
       "      <th>2</th>\n",
       "      <td>0.060016</td>\n",
       "      <td>'s</td>\n",
       "      <td>-0.383068</td>\n",
       "    </tr>\n",
       "    <tr>\n",
       "      <th>203</th>\n",
       "      <td>0.028062</td>\n",
       "      <td>ha</td>\n",
       "      <td>0.617735</td>\n",
       "    </tr>\n",
       "    <tr>\n",
       "      <th>275</th>\n",
       "      <td>0.027679</td>\n",
       "      <td>man</td>\n",
       "      <td>0.000000</td>\n",
       "    </tr>\n",
       "    <tr>\n",
       "      <th>182</th>\n",
       "      <td>0.024855</td>\n",
       "      <td>forc</td>\n",
       "      <td>1.608891</td>\n",
       "    </tr>\n",
       "    <tr>\n",
       "      <th>301</th>\n",
       "      <td>0.024597</td>\n",
       "      <td>new</td>\n",
       "      <td>0.326748</td>\n",
       "    </tr>\n",
       "    <tr>\n",
       "      <th>481</th>\n",
       "      <td>0.023980</td>\n",
       "      <td>world</td>\n",
       "      <td>0.622549</td>\n",
       "    </tr>\n",
       "    <tr>\n",
       "      <th>293</th>\n",
       "      <td>0.022165</td>\n",
       "      <td>murder</td>\n",
       "      <td>0.301941</td>\n",
       "    </tr>\n",
       "    <tr>\n",
       "      <th>178</th>\n",
       "      <td>0.021873</td>\n",
       "      <td>fight</td>\n",
       "      <td>2.252207</td>\n",
       "    </tr>\n",
       "    <tr>\n",
       "      <th>428</th>\n",
       "      <td>0.021569</td>\n",
       "      <td>team</td>\n",
       "      <td>1.322660</td>\n",
       "    </tr>\n",
       "    <tr>\n",
       "      <th>445</th>\n",
       "      <td>0.020228</td>\n",
       "      <td>tri</td>\n",
       "      <td>-0.427291</td>\n",
       "    </tr>\n",
       "    <tr>\n",
       "      <th>486</th>\n",
       "      <td>0.019714</td>\n",
       "      <td>young</td>\n",
       "      <td>-0.984402</td>\n",
       "    </tr>\n",
       "    <tr>\n",
       "      <th>243</th>\n",
       "      <td>0.019446</td>\n",
       "      <td>kill</td>\n",
       "      <td>2.258168</td>\n",
       "    </tr>\n",
       "    <tr>\n",
       "      <th>332</th>\n",
       "      <td>0.018991</td>\n",
       "      <td>polic</td>\n",
       "      <td>0.739115</td>\n",
       "    </tr>\n",
       "    <tr>\n",
       "      <th>434</th>\n",
       "      <td>0.018935</td>\n",
       "      <td>thi</td>\n",
       "      <td>0.000000</td>\n",
       "    </tr>\n",
       "    <tr>\n",
       "      <th>0</th>\n",
       "      <td>0.018685</td>\n",
       "      <td>''</td>\n",
       "      <td>0.000000</td>\n",
       "    </tr>\n",
       "    <tr>\n",
       "      <th>5</th>\n",
       "      <td>0.018651</td>\n",
       "      <td>``</td>\n",
       "      <td>-0.437608</td>\n",
       "    </tr>\n",
       "    <tr>\n",
       "      <th>466</th>\n",
       "      <td>0.018353</td>\n",
       "      <td>war</td>\n",
       "      <td>0.401092</td>\n",
       "    </tr>\n",
       "    <tr>\n",
       "      <th>310</th>\n",
       "      <td>0.018209</td>\n",
       "      <td>onli</td>\n",
       "      <td>0.836252</td>\n",
       "    </tr>\n",
       "    <tr>\n",
       "      <th>260</th>\n",
       "      <td>0.017942</td>\n",
       "      <td>life</td>\n",
       "      <td>-1.617688</td>\n",
       "    </tr>\n",
       "  </tbody>\n",
       "</table>\n",
       "</div>"
      ],
      "text/plain": [
       "            0 features  coefficients\n",
       "211  0.089877       hi      1.323710\n",
       "2    0.060016       's     -0.383068\n",
       "203  0.028062       ha      0.617735\n",
       "275  0.027679      man      0.000000\n",
       "182  0.024855     forc      1.608891\n",
       "301  0.024597      new      0.326748\n",
       "481  0.023980    world      0.622549\n",
       "293  0.022165   murder      0.301941\n",
       "178  0.021873    fight      2.252207\n",
       "428  0.021569     team      1.322660\n",
       "445  0.020228      tri     -0.427291\n",
       "486  0.019714    young     -0.984402\n",
       "243  0.019446     kill      2.258168\n",
       "332  0.018991    polic      0.739115\n",
       "434  0.018935      thi      0.000000\n",
       "0    0.018685       ''      0.000000\n",
       "5    0.018651       ``     -0.437608\n",
       "466  0.018353      war      0.401092\n",
       "310  0.018209     onli      0.836252\n",
       "260  0.017942     life     -1.617688"
      ]
     },
     "execution_count": 171,
     "metadata": {},
     "output_type": "execute_result"
    }
   ],
   "source": [
    "#what words are most associated with false negatives?\n",
    "fn_features_sum = (pd.DataFrame(output.loc[(output['truth'] == 1) & (output['pred'] == 0), ].mean(axis = 0))\n",
    "                                .drop(['truth', 'pred']))\n",
    "\n",
    "fn_features_sum['features'] = features\n",
    "fn_features_sum['coefficients'] = coefficients\n",
    "fn_features_sum.sort_values(by = 0, ascending = False, inplace = True)\n",
    "fn_features_sum.head(20)"
   ]
  },
  {
   "cell_type": "code",
   "execution_count": 177,
   "metadata": {},
   "outputs": [
    {
     "name": "stdout",
     "output_type": "stream",
     "text": [
      "``\n",
      "agent\n",
      "apart\n",
      "appear\n",
      "attract\n",
      "black\n",
      "caus\n",
      "chanc\n",
      "close\n",
      "connect\n",
      "creatur\n",
      "dark\n",
      "discov\n",
      "doe\n",
      "earli\n",
      "entir\n",
      "far\n",
      "form\n",
      "game\n",
      "gener\n",
      "includ\n",
      "land\n",
      "london\n",
      "lost\n",
      "mani\n",
      "marri\n",
      "member\n",
      "n't\n",
      "oper\n",
      "parent\n",
      "pari\n",
      "receiv\n",
      "recent\n",
      "run\n",
      "sent\n",
      "sister\n",
      "steal\n",
      "street\n",
      "suspect\n",
      "teen\n"
     ]
    }
   ],
   "source": [
    "for i in np.squeeze(np.nonzero(output.loc[(output['truth'] == 1) & (output['pred'] == 0),0])):\n",
    "    print(features[i])"
   ]
  },
  {
   "cell_type": "code",
   "execution_count": 66,
   "metadata": {},
   "outputs": [
    {
     "name": "stdout",
     "output_type": "stream",
     "text": [
      "act\n",
      "doe\n",
      "dure\n",
      "expect\n",
      "fight\n",
      "gener\n",
      "hope\n",
      "order\n",
      "prison\n",
      "themselv\n",
      "use\n",
      "war\n"
     ]
    }
   ],
   "source": [
    "for i in np.nonzero(output.iloc[0, :-2])[0]:\n",
    "    print(features[i])"
   ]
  },
  {
   "cell_type": "code",
   "execution_count": 67,
   "metadata": {},
   "outputs": [
    {
     "data": {
      "text/plain": [
       "'During the Boer War, three Australian lieutenants are on trial for shooting Boer prisoners. Though they acted under orders, they are being used as scapegoats by the General Staff, who hopes to distance themselves from the irregular practices of the war. The trial does not progress as smoothly as expected by the General Staff, as the defence puts up a strong fight in the courtroom.'"
      ]
     },
     "execution_count": 67,
     "metadata": {},
     "output_type": "execute_result"
    }
   ],
   "source": [
    "X_test.iloc[0]"
   ]
  },
  {
   "cell_type": "code",
   "execution_count": 172,
   "metadata": {},
   "outputs": [
    {
     "name": "stdout",
     "output_type": "stream",
     "text": [
      "thi\n",
      "soon\n",
      "seemingli\n",
      "planet\n",
      "like\n",
      "lie\n",
      "island\n",
      "hope\n",
      "hi\n",
      "exist\n",
      "everyth\n",
      "discov\n",
      "``\n",
      ".\n",
      ",\n",
      "''\n"
     ]
    }
   ],
   "source": [
    "for i in np.nonzero(output.loc[0])[1]:\n",
    "    print(features[i])"
   ]
  },
  {
   "cell_type": "code",
   "execution_count": 152,
   "metadata": {},
   "outputs": [
    {
     "data": {
      "text/plain": [
       "'``'"
      ]
     },
     "execution_count": 152,
     "metadata": {},
     "output_type": "execute_result"
    }
   ],
   "source": [
    "features[16]\n",
    "#, 705, 694, 693, 645, 635, 610, 530, 497, 491, 409, 407, 393,\n",
    "#       363, 362, 349, 335, 329, 297, 232, 193, 103,  66,  24,   2]"
   ]
  },
  {
   "cell_type": "code",
   "execution_count": 174,
   "metadata": {},
   "outputs": [
    {
     "data": {
      "text/plain": [
       "'!\"#$%&\\'()*+,-./:;<=>?@[\\\\]^_`{|}~'"
      ]
     },
     "execution_count": 174,
     "metadata": {},
     "output_type": "execute_result"
    }
   ],
   "source": [
    "import string\n",
    "string.punctuation"
   ]
  },
  {
   "cell_type": "code",
   "execution_count": 169,
   "metadata": {},
   "outputs": [
    {
     "data": {
      "text/plain": [
       "\"The bold Tira works as dancing beauty and lion tamer at a fair. Out of an urgent need of money, she agrees to a risky new number: she'll put her head into a lion's muzzle! With this attraction the circus makes it to New York and Tira can persue her dearest occupation: flirting with rich men and accepting expensive presents.\""
      ]
     },
     "execution_count": 169,
     "metadata": {},
     "output_type": "execute_result"
    }
   ],
   "source": [
    "X_test.iloc"
   ]
  },
  {
   "cell_type": "code",
   "execution_count": 159,
   "metadata": {},
   "outputs": [
    {
     "data": {
      "text/plain": [
       "tmdbId                                                       1635\n",
       "tmdbId_exist                                                    1\n",
       "overview        In 2019, Lincoln Six-Echo is a resident of a s...\n",
       "title                                                  The Island\n",
       "Name: 915, dtype: object"
      ]
     },
     "execution_count": 159,
     "metadata": {},
     "output_type": "execute_result"
    }
   ],
   "source": [
    "overviews_df.loc[915]"
   ]
  },
  {
   "cell_type": "code",
   "execution_count": 101,
   "metadata": {},
   "outputs": [],
   "source": [
    "from sklearn.feature_extraction.text import TfidfVectorizer\n",
    "v = TfidfVectorizer(stop_words = 'english')#, max_features = 800, analyzer = stemming)\n",
    "x = v.fit_transform(X_train)"
   ]
  },
  {
   "cell_type": "code",
   "execution_count": null,
   "metadata": {},
   "outputs": [],
   "source": [
    "def top_tfidf_feats(row, features, top_n=25):\n",
    "    ''' Get top n tfidf values in row and return them with their corresponding feature names.'''\n",
    "    topn_ids = np.argsort(row)[::-1][:top_n]\n",
    "    top_feats = [(features[i], row[i]) for i in topn_ids]\n",
    "    df = pd.DataFrame(top_feats)\n",
    "    df.columns = ['feature', 'tfidf']\n",
    "    return df\n",
    "\n",
    "def top_feats_in_doc(Xtr, features, row_id, top_n=25):\n",
    "    '''Top tfidf features in specific document (matrix row)'''\n",
    "    row = np.squeeze(Xtr[row_id].toarray())\n",
    "    return top_tfidf_feats(row, features, top_n)"
   ]
  },
  {
   "cell_type": "code",
   "execution_count": null,
   "metadata": {},
   "outputs": [],
   "source": [
    "top_feats_in_doc(x, v.get_feature_names(), 1)"
   ]
  },
  {
   "cell_type": "code",
   "execution_count": 102,
   "metadata": {},
   "outputs": [],
   "source": [
    "features_2 = v.get_feature_names()"
   ]
  },
  {
   "cell_type": "code",
   "execution_count": 107,
   "metadata": {},
   "outputs": [
    {
     "data": {
      "text/plain": [
       "True"
      ]
     },
     "execution_count": 107,
     "metadata": {},
     "output_type": "execute_result"
    }
   ],
   "source": [
    "import nltk\n",
    "\n",
    "from sklearn.feature_extraction.text import TfidfVectorizer\n",
    "from nltk.stem.porter import PorterStemmer\n",
    "\n",
    "token_dict = {}\n",
    "stemmer = PorterStemmer()\n",
    "\n",
    "\n",
    "def stem_tokens(tokens, stemmer):\n",
    "    stemmed = []\n",
    "    for item in tokens:\n",
    "        stemmed.append(stemmer.stem(item))\n",
    "    return stemmed\n",
    "\n",
    "def tokenize(text):\n",
    "    tokens = nltk.word_tokenize(X_train)\n",
    "    stems = stem_tokens(tokens, stemmer)\n",
    "    return stems\n",
    "\n",
    "#this can take some time\n",
    "tfidf = TfidfVectorizer(tokenizer=tokenize, stop_words='english')\n",
    "tfs = tfidf.fit_transform(token_dict.values())\n"
   ]
  },
  {
   "cell_type": "code",
   "execution_count": null,
   "metadata": {},
   "outputs": [],
   "source": []
  }
 ],
 "metadata": {
  "kernelspec": {
   "display_name": "Python 3",
   "language": "python",
   "name": "python3"
  },
  "language_info": {
   "codemirror_mode": {
    "name": "ipython",
    "version": 3
   },
   "file_extension": ".py",
   "mimetype": "text/x-python",
   "name": "python",
   "nbconvert_exporter": "python",
   "pygments_lexer": "ipython3",
   "version": "3.6.5"
  }
 },
 "nbformat": 4,
 "nbformat_minor": 2
}
